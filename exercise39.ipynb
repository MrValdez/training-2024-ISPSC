{
 "cells": [
  {
   "cell_type": "markdown",
   "metadata": {},
   "source": [
    "# Pandas\n",
    "\n",
    "Used by data scientists to manipulate, clean, filter, and work with data\n",
    "\n",
    "$ pip install pandas"
   ]
  },
  {
   "cell_type": "code",
   "execution_count": 1,
   "metadata": {},
   "outputs": [
    {
     "name": "stdout",
     "output_type": "stream",
     "text": [
      "      activity  participants  required\n",
      "0    Kasiyahan          1000     False\n",
      "1   Xmas party           500     False\n",
      "2  Intramurals          1500      True\n"
     ]
    }
   ],
   "source": [
    "import pandas as pd\n",
    "\n",
    "data = {\n",
    "    \"activity\": [\"Kasiyahan\", \"Xmas party\", \"Intramurals\"],\n",
    "    \"participants\": [1000, 500, 1_500],\n",
    "    \"required\": [False, False, True],\n",
    "}\n",
    "\n",
    "df = pd.DataFrame(data)\n",
    "print(df)"
   ]
  },
  {
   "cell_type": "code",
   "execution_count": 3,
   "metadata": {},
   "outputs": [
    {
     "name": "stdout",
     "output_type": "stream",
     "text": [
      "activity        Kasiyahan\n",
      "participants         1000\n",
      "required            False\n",
      "Name: 0, dtype: object\n",
      "      activity  participants  required\n",
      "0    Kasiyahan          1000     False\n",
      "2  Intramurals          1500      True\n"
     ]
    }
   ],
   "source": [
    "print(df.loc[0])\n",
    "print(df.loc[[0, 2]])\n"
   ]
  },
  {
   "cell_type": "code",
   "execution_count": 6,
   "metadata": {},
   "outputs": [
    {
     "name": "stdout",
     "output_type": "stream",
     "text": [
      "              activity  participants  required\n",
      "Monday       Kasiyahan          1000     False\n",
      "Wednesday   Xmas party           500     False\n",
      "Friday     Intramurals          1500      True\n",
      "activity        Xmas party\n",
      "participants           500\n",
      "required             False\n",
      "Name: Wednesday, dtype: object\n"
     ]
    }
   ],
   "source": [
    "df2 = pd.DataFrame(data, index=[\"Monday\", \"Wednesday\", \"Friday\"])\n",
    "print(df2)\n",
    "\n",
    "print(df2.loc[\"Wednesday\"])"
   ]
  },
  {
   "cell_type": "code",
   "execution_count": 7,
   "metadata": {},
   "outputs": [],
   "source": [
    "df2.to_csv(\"activities.csv\")"
   ]
  }
 ],
 "metadata": {
  "kernelspec": {
   "display_name": ".venv",
   "language": "python",
   "name": "python3"
  },
  "language_info": {
   "codemirror_mode": {
    "name": "ipython",
    "version": 3
   },
   "file_extension": ".py",
   "mimetype": "text/x-python",
   "name": "python",
   "nbconvert_exporter": "python",
   "pygments_lexer": "ipython3",
   "version": "3.13.0"
  }
 },
 "nbformat": 4,
 "nbformat_minor": 2
}

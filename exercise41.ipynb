{
 "cells": [
  {
   "cell_type": "markdown",
   "metadata": {},
   "source": [
    "Titanic dataset\n",
    "\n",
    "origin: https://www.openml.org/search?type=data&id=40945\n",
    "\n",
    "csv: https://hbiostat.org/data/repo/titanic3.csv"
   ]
  },
  {
   "cell_type": "code",
   "execution_count": 28,
   "metadata": {},
   "outputs": [],
   "source": [
    "import pandas as pd\n",
    "import numpy as np\n",
    "\n",
    "data = pd.read_csv(\"titanic3.csv\")\n",
    "#print(data)"
   ]
  },
  {
   "cell_type": "markdown",
   "metadata": {},
   "source": [
    "# Update missing data\n",
    "Some dataset would use a placeholder for missing like \"N/A\" or \"?\".\n",
    "\n",
    "For this example, we're replacing \"New York, NY\" as NaN (Not a Number)."
   ]
  },
  {
   "cell_type": "code",
   "execution_count": 7,
   "metadata": {},
   "outputs": [
    {
     "name": "stdout",
     "output_type": "stream",
     "text": [
      "pclass                         1\n",
      "survived                       0\n",
      "name         Baumann, Mr. John D\n",
      "sex                         male\n",
      "age                          NaN\n",
      "sibsp                          0\n",
      "parch                          0\n",
      "ticket                  PC 17318\n",
      "fare                      25.925\n",
      "cabin                        NaN\n",
      "embarked                       S\n",
      "boat                         NaN\n",
      "body                         NaN\n",
      "home.dest           New York, NY\n",
      "Name: 15, dtype: object\n",
      "pclass                         1\n",
      "survived                       0\n",
      "name         Baumann, Mr. John D\n",
      "sex                         male\n",
      "age                          NaN\n",
      "sibsp                          0\n",
      "parch                          0\n",
      "ticket                  PC 17318\n",
      "fare                      25.925\n",
      "cabin                        NaN\n",
      "embarked                       S\n",
      "boat                         NaN\n",
      "body                         NaN\n",
      "home.dest                    NaN\n",
      "Name: 15, dtype: object\n"
     ]
    }
   ],
   "source": [
    "print(data.loc[15])\n",
    "data2 = data.replace(\"New York, NY\", np.nan)\n",
    "print(data2.loc[15])"
   ]
  },
  {
   "cell_type": "markdown",
   "metadata": {},
   "source": [
    "# Plot the data"
   ]
  },
  {
   "cell_type": "code",
   "execution_count": 13,
   "metadata": {},
   "outputs": [
    {
     "data": {
      "text/plain": [
       "<Axes: ylabel='Frequency'>"
      ]
     },
     "execution_count": 13,
     "metadata": {},
     "output_type": "execute_result"
    },
    {
     "data": {
      "image/png": "[encoded data removed]",
      "text/plain": [
       "<Figure size 640x480 with 1 Axes>"
      ]
     },
     "metadata": {},
     "output_type": "display_data"
    }
   ],
   "source": [
    "data.plot(x=\"survived\", y=\"age\", kind=\"hist\")"
   ]
  },
  {
   "cell_type": "markdown",
   "metadata": {},
   "source": [
    "# determining the number of survivals"
   ]
  },
  {
   "cell_type": "code",
   "execution_count": 16,
   "metadata": {},
   "outputs": [
    {
     "name": "stdout",
     "output_type": "stream",
     "text": [
      "There were 500 survivals.\n",
      "Out of 1309, 809 did not make it\n"
     ]
    }
   ],
   "source": [
    "total = len(data)\n",
    "survived = data[\"survived\"].sum()\n",
    "\n",
    "print(f\"There were {survived} survivals.\")\n",
    "print(f\"Out of {total}, {total - survived} did not make it\")"
   ]
  },
  {
   "cell_type": "markdown",
   "metadata": {},
   "source": [
    "# determining the number of male and female"
   ]
  },
  {
   "cell_type": "code",
   "execution_count": 18,
   "metadata": {},
   "outputs": [
    {
     "name": "stdout",
     "output_type": "stream",
     "text": [
      "There are 843 male,\n",
      "466 females,\n",
      "0 unrecorded/missing data\n"
     ]
    }
   ],
   "source": [
    "total = len(data)\n",
    "male_count = data[\"sex\"].eq(\"male\").sum()\n",
    "female_count = data[\"sex\"].eq(\"female\").sum()\n",
    "missing_sex = total - male_count - female_count\n",
    "\n",
    "print(f\"\"\"There are {male_count} male,\n",
    "{female_count} females,\n",
    "{missing_sex} unrecorded/missing data\"\"\")"
   ]
  },
  {
   "cell_type": "markdown",
   "metadata": {},
   "source": [
    "# Find the unique cabins people have stayed in"
   ]
  },
  {
   "cell_type": "code",
   "execution_count": 20,
   "metadata": {},
   "outputs": [
    {
     "name": "stdout",
     "output_type": "stream",
     "text": [
      "['B5' 'C22 C26' 'E12' 'D7' 'A36' 'C101' nan 'C62 C64' 'B35' 'A23'\n",
      " 'B58 B60' 'D15' 'C6' 'D35' 'C148' 'C97' 'B49' 'C99' 'C52' 'T' 'A31' 'C7'\n",
      " 'C103' 'D22' 'E33' 'A21' 'B10' 'B4' 'E40' 'B38' 'E24' 'B51 B53 B55'\n",
      " 'B96 B98' 'C46' 'E31' 'E8' 'B61' 'B77' 'A9' 'C89' 'A14' 'E58' 'E49' 'E52'\n",
      " 'E45' 'B22' 'B26' 'C85' 'E17' 'B71' 'B20' 'A34' 'C86' 'A16' 'A20' 'A18'\n",
      " 'C54' 'C45' 'D20' 'A29' 'C95' 'E25' 'C111' 'C23 C25 C27' 'E36' 'D34'\n",
      " 'D40' 'B39' 'B41' 'B102' 'C123' 'E63' 'C130' 'B86' 'C92' 'A5' 'C51' 'B42'\n",
      " 'C91' 'C125' 'D10 D12' 'B82 B84' 'E50' 'D33' 'C83' 'B94' 'D49' 'D45'\n",
      " 'B69' 'B11' 'E46' 'C39' 'B18' 'D11' 'C93' 'B28' 'C49' 'B52 B54 B56' 'E60'\n",
      " 'C132' 'B37' 'D21' 'D19' 'C124' 'D17' 'B101' 'D28' 'D6' 'D9' 'B80' 'C106'\n",
      " 'B79' 'C47' 'D30' 'C90' 'E38' 'C78' 'C30' 'C118' 'D36' 'D48' 'D47' 'C105'\n",
      " 'B36' 'B30' 'D43' 'B24' 'C2' 'C65' 'B73' 'C104' 'C110' 'C50' 'B3' 'A24'\n",
      " 'A32' 'A11' 'A10' 'B57 B59 B63 B66' 'C28' 'E44' 'A26' 'A6' 'A7' 'C31'\n",
      " 'A19' 'B45' 'E34' 'B78' 'B50' 'C87' 'C116' 'C55 C57' 'D50' 'E68' 'E67'\n",
      " 'C126' 'C68' 'C70' 'C53' 'B19' 'D46' 'D37' 'D26' 'C32' 'C80' 'C82' 'C128'\n",
      " 'E39 E41' 'D' 'F4' 'D56' 'F33' 'E101' 'E77' 'F2' 'D38' 'F' 'F G63'\n",
      " 'F E57' 'F E46' 'F G73' 'E121' 'F E69' 'E10' 'G6' 'F38']\n",
      "186\n"
     ]
    }
   ],
   "source": [
    "unique_cabins = data[\"cabin\"].unique()\n",
    "print(unique_cabins)\n",
    "\n",
    "unique_cabins_number = data[\"cabin\"].nunique()\n",
    "print(unique_cabins_number)"
   ]
  },
  {
   "cell_type": "markdown",
   "metadata": {},
   "source": [
    "# Finding the correlation between values"
   ]
  },
  {
   "cell_type": "code",
   "execution_count": 23,
   "metadata": {},
   "outputs": [
    {
     "name": "stdout",
     "output_type": "stream",
     "text": [
      "          survived\n",
      "pclass    0.312469\n",
      "survived  1.000000\n",
      "age       0.055512\n",
      "sibsp     0.027825\n",
      "parch     0.082660\n",
      "fare      0.244265\n",
      "body           NaN\n",
      "          survived       age\n",
      "pclass    0.312469  0.408106\n",
      "survived  1.000000  0.055512\n",
      "age       0.055512  1.000000\n",
      "sibsp     0.027825  0.243699\n",
      "parch     0.082660  0.150917\n",
      "fare      0.244265  0.178740\n",
      "body           NaN  0.058809\n"
     ]
    }
   ],
   "source": [
    "print(data.corr(numeric_only=True).abs()[[\"survived\"]])\n",
    "print(data.corr(numeric_only=True).abs()[[\"survived\", \"age\"]])"
   ]
  },
  {
   "cell_type": "markdown",
   "metadata": {},
   "source": [
    "# Adding new column"
   ]
  },
  {
   "cell_type": "code",
   "execution_count": 92,
   "metadata": {},
   "outputs": [
    {
     "name": "stdout",
     "output_type": "stream",
     "text": [
      "              0                                        1\n",
      "0         Allen                   Miss. Elisabeth Walton\n",
      "1       Allison                    Master. Hudson Trevor\n",
      "2       Allison                      Miss. Helen Loraine\n",
      "3       Allison              Mr. Hudson Joshua Creighton\n",
      "4       Allison   Mrs. Hudson J C (Bessie Waldo Daniels)\n",
      "...         ...                                      ...\n",
      "1304     Zabour                             Miss. Hileni\n",
      "1305     Zabour                            Miss. Thamine\n",
      "1306   Zakarian                          Mr. Mapriededer\n",
      "1307   Zakarian                                Mr. Ortin\n",
      "1308  Zimmerman                                  Mr. Leo\n",
      "\n",
      "[1309 rows x 2 columns]\n",
      "   pclass  survived     sex    title    age  sibsp  parch  ticket      fare  \\\n",
      "0       1         1  female     Miss  29.00      0      0   24160  211.3375   \n",
      "1       1         1    male   Master   0.92      1      2  113781  151.5500   \n",
      "2       1         0  female     Miss   2.00      1      2  113781  151.5500   \n",
      "3       1         0    male       Mr  30.00      1      2  113781  151.5500   \n",
      "4       1         0  female      Mrs  25.00      1      2  113781  151.5500   \n",
      "\n",
      "     cabin embarked boat   body                        home.dest  \n",
      "0       B5        S    2    NaN                     St Louis, MO  \n",
      "1  C22 C26        S   11    NaN  Montreal, PQ / Chesterville, ON  \n",
      "2  C22 C26        S  NaN    NaN  Montreal, PQ / Chesterville, ON  \n",
      "3  C22 C26        S  NaN  135.0  Montreal, PQ / Chesterville, ON  \n",
      "4  C22 C26        S  NaN    NaN  Montreal, PQ / Chesterville, ON  \n"
     ]
    }
   ],
   "source": [
    "data2 = data.copy()\n",
    "data2.insert(4, \"title\", \"\")\n",
    "#print(data2.head())\n",
    "\n",
    "# if expand == False, data is returned as str\n",
    "data2[\"title\"] = (data2[\"name\"].str.split(\",\", expand=False))\n",
    "#print(data2.head())\n",
    "\n",
    "# if expand == True, multiple columns is return per element\n",
    "print(data2[\"name\"].str.split(\",\", expand=True))\n",
    "\n",
    "data2[\"title\"] = (data2[\"name\"]\n",
    "    .str.split(\",\", expand=True)[1]\n",
    "    .str.split(\".\", expand=True)[0]\n",
    ")\n",
    "data2 = data2.drop(columns=[\"name\"])\n",
    "print(data2.head())"
   ]
  },
  {
   "cell_type": "code",
   "execution_count": null,
   "metadata": {},
   "outputs": [
    {
     "name": "stdout",
     "output_type": "stream",
     "text": [
      "[' Miss' ' Master' ' Mr' ' Mrs' ' Col' ' Mme' ' Dr' ' Major' ' Capt'\n",
      " ' Lady' ' Sir' ' Mlle' ' Dona' ' Jonkheer' ' the Countess' ' Don' ' Rev'\n",
      " ' Ms']\n",
      "1\n",
      "      title  survived\n",
      "3      Dona  1.000000\n",
      "8      Mlle  1.000000\n",
      "9       Mme  1.000000\n",
      "14      Sir  1.000000\n",
      "11      Mrs  0.786802\n",
      "7      Miss  0.676923\n",
      "15      VIP  0.666667\n",
      "6    Master  0.508197\n",
      "1       Col  0.500000\n",
      "4        Dr  0.500000\n",
      "5     Major  0.500000\n",
      "12       Ms  0.500000\n",
      "10       Mr  0.162483\n",
      "0      Capt  0.000000\n",
      "2       Don  0.000000\n",
      "13      Rev  0.000000\n"
     ]
    }
   ],
   "source": [
    "print(data2[\"title\"].unique())\n",
    "print(data2[\"title\"].value_counts().get(\" the Countess\"))\n",
    "\n",
    "data2[\"title\"] = data2[\"title\"].replace(\n",
    "    [\" the Countess\", \" Lady\", \" Jonkheer\"], \"VIP\"\n",
    ")\n",
    "\n",
    "correlation = data2[[\"title\", \"survived\"]].groupby(\"title\", as_index=False).mean()\n",
    "print(correlation.sort_values(\"survived\", ascending=False))"
   ]
  },
  {
   "cell_type": "markdown",
   "metadata": {},
   "source": [
    "# Visualizing the distribution between title and sex"
   ]
  },
  {
   "cell_type": "code",
   "execution_count": 70,
   "metadata": {},
   "outputs": [
    {
     "name": "stdout",
     "output_type": "stream",
     "text": [
      "sex      female  male\n",
      "title                \n",
      " Capt         0     1\n",
      " Col          0     4\n",
      " Don          0     1\n",
      " Dona         1     0\n",
      " Dr           1     7\n",
      " Major        0     2\n",
      " Master       0    61\n",
      " Miss       260     0\n",
      " Mlle         2     0\n",
      " Mme          1     0\n",
      " Mr           0   757\n",
      " Mrs        197     0\n",
      " Ms           2     0\n",
      " Rev          0     8\n",
      " Sir          0     1\n",
      "VIP           2     1\n"
     ]
    }
   ],
   "source": [
    "print(pd.crosstab(data2[\"title\"], data2[\"sex\"]))"
   ]
  },
  {
   "cell_type": "markdown",
   "metadata": {},
   "source": [
    "# Describing the DataFrame"
   ]
  },
  {
   "cell_type": "code",
   "execution_count": 73,
   "metadata": {},
   "outputs": [
    {
     "name": "stdout",
     "output_type": "stream",
     "text": [
      "             pclass     survived   sex title          age        sibsp  \\\n",
      "count   1309.000000  1309.000000  1309  1309  1046.000000  1309.000000   \n",
      "unique          NaN          NaN     2    16          NaN          NaN   \n",
      "top             NaN          NaN  male    Mr          NaN          NaN   \n",
      "freq            NaN          NaN   843   757          NaN          NaN   \n",
      "mean       2.294882     0.381971   NaN   NaN    29.881138     0.498854   \n",
      "std        0.837836     0.486055   NaN   NaN    14.413493     1.041658   \n",
      "min        1.000000     0.000000   NaN   NaN     0.170000     0.000000   \n",
      "25%        2.000000     0.000000   NaN   NaN    21.000000     0.000000   \n",
      "50%        3.000000     0.000000   NaN   NaN    28.000000     0.000000   \n",
      "75%        3.000000     1.000000   NaN   NaN    39.000000     1.000000   \n",
      "max        3.000000     1.000000   NaN   NaN    80.000000     8.000000   \n",
      "\n",
      "              parch    ticket         fare        cabin embarked boat  \\\n",
      "count   1309.000000      1309  1308.000000          295     1307  486   \n",
      "unique          NaN       929          NaN          186        3   27   \n",
      "top             NaN  CA. 2343          NaN  C23 C25 C27        S   13   \n",
      "freq            NaN        11          NaN            6      914   39   \n",
      "mean       0.385027       NaN    33.295479          NaN      NaN  NaN   \n",
      "std        0.865560       NaN    51.758668          NaN      NaN  NaN   \n",
      "min        0.000000       NaN     0.000000          NaN      NaN  NaN   \n",
      "25%        0.000000       NaN     7.895800          NaN      NaN  NaN   \n",
      "50%        0.000000       NaN    14.454200          NaN      NaN  NaN   \n",
      "75%        0.000000       NaN    31.275000          NaN      NaN  NaN   \n",
      "max        9.000000       NaN   512.329200          NaN      NaN  NaN   \n",
      "\n",
      "              body     home.dest  \n",
      "count   121.000000           745  \n",
      "unique         NaN           369  \n",
      "top            NaN  New York, NY  \n",
      "freq           NaN            64  \n",
      "mean    160.809917           NaN  \n",
      "std      97.696922           NaN  \n",
      "min       1.000000           NaN  \n",
      "25%      72.000000           NaN  \n",
      "50%     155.000000           NaN  \n",
      "75%     256.000000           NaN  \n",
      "max     328.000000           NaN  \n"
     ]
    }
   ],
   "source": [
    "print(data2.describe(include=\"all\"))"
   ]
  },
  {
   "cell_type": "markdown",
   "metadata": {},
   "source": [
    "# Filling NA values"
   ]
  },
  {
   "cell_type": "code",
   "execution_count": 93,
   "metadata": {},
   "outputs": [
    {
     "name": "stdout",
     "output_type": "stream",
     "text": [
      "nan\n",
      "29.0\n"
     ]
    }
   ],
   "source": [
    "print(data2[\"age\"][69])\n",
    "data2[\"age\"] = (data2[\"age\"]\n",
    "    .fillna(\n",
    "        data2[\"age\"].mean().astype(int)\n",
    "    )\n",
    ")\n",
    "print(data2[\"age\"][69])"
   ]
  }
 ],
 "metadata": {
  "kernelspec": {
   "display_name": ".venv",
   "language": "python",
   "name": "python3"
  },
  "language_info": {
   "codemirror_mode": {
    "name": "ipython",
    "version": 3
   },
   "file_extension": ".py",
   "mimetype": "text/x-python",
   "name": "python",
   "nbconvert_exporter": "python",
   "pygments_lexer": "ipython3",
   "version": "3.13.0"
  }
 },
 "nbformat": 4,
 "nbformat_minor": 2
}

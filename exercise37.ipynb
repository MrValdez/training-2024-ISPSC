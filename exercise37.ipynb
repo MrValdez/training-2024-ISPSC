{
 "cells": [
  {
   "cell_type": "markdown",
   "metadata": {},
   "source": [
    "# Numpy\n",
    "\n",
    "Common variables"
   ]
  },
  {
   "cell_type": "code",
   "execution_count": 4,
   "metadata": {},
   "outputs": [],
   "source": [
    "import numpy as np"
   ]
  },
  {
   "cell_type": "markdown",
   "metadata": {},
   "source": [
    "# Numpy Arrays"
   ]
  },
  {
   "cell_type": "code",
   "execution_count": 5,
   "metadata": {},
   "outputs": [
    {
     "name": "stdout",
     "output_type": "stream",
     "text": [
      "[1 2 3]\n",
      "[[1 3 4]\n",
      " [2 4 6]]\n",
      "[[3.14 6.   9.  ]\n",
      " [1.   2.   4.  ]]\n"
     ]
    }
   ],
   "source": [
    "a = np.array([1, 2, 3])\n",
    "b = np.array([[1, 3, 4], [2, 4, 6]])\n",
    "c = np.array([[3.14, 6.0, 9], [1, 2, 4]], dtype=float)\n",
    "\n",
    "print(a)\n",
    "print(b)\n",
    "print(c)"
   ]
  },
  {
   "cell_type": "markdown",
   "metadata": {},
   "source": [
    "# Numpy Data types\n",
    "- np.int\n",
    "- np.float\n",
    "- np.int64\n",
    "- np.float32\n",
    "- np.complex   # Complex numbers\n",
    "- np.bool\n",
    "- np.object    # Python object\n",
    "- np.string_   # Fixed-length string\n",
    "- np.unicode_  # Fixed-length unicode\n"
   ]
  },
  {
   "cell_type": "markdown",
   "metadata": {},
   "source": [
    "# Numpy placeholders"
   ]
  },
  {
   "cell_type": "code",
   "execution_count": 14,
   "metadata": {},
   "outputs": [
    {
     "name": "stdout",
     "output_type": "stream",
     "text": [
      "[[0. 0. 0.]\n",
      " [0. 0. 0.]]\n",
      "[[[1. 1.]\n",
      "  [1. 1.]]\n",
      "\n",
      " [[1. 1.]\n",
      "  [1. 1.]]\n",
      "\n",
      " [[1. 1.]\n",
      "  [1. 1.]]\n",
      "\n",
      " [[1. 1.]\n",
      "  [1. 1.]]]\n",
      "[100 110 120 130 140 150 160 170 180 190 200 210 220 230 240 250 260 270\n",
      " 280 290 300 310 320 330 340 350 360 370 380 390 400 410 420 430 440 450\n",
      " 460 470 480 490]\n",
      "[[0.70179532 0.49982629 0.89109087 0.5459987  0.31999866 0.18663034\n",
      "  0.97263829 0.23041897 0.29289552 0.47838425]\n",
      " [0.03528195 0.49027999 0.31377514 0.17059903 0.72980675 0.23946801\n",
      "  0.15516655 0.47968793 0.40625225 0.98961269]\n",
      " [0.35172379 0.31815093 0.58101308 0.59388003 0.48985341 0.75754285\n",
      "  0.13905392 0.1135824  0.47846364 0.84622311]\n",
      " [0.27107667 0.46941884 0.9850125  0.85859591 0.75195731 0.80484786\n",
      "  0.94944461 0.63881671 0.1114873  0.41963066]\n",
      " [0.66544341 0.50244529 0.4795803  0.91009443 0.24451745 0.38669167\n",
      "  0.13109466 0.78848087 0.49062312 0.36614859]\n",
      " [0.8686527  0.0124802  0.06484851 0.18130198 0.577334   0.00776841\n",
      "  0.34644156 0.60116566 0.44577319 0.35100146]\n",
      " [0.47589192 0.01592331 0.99485107 0.33661722 0.24178336 0.39381683\n",
      "  0.71673382 0.49322613 0.98439988 0.4956114 ]\n",
      " [0.72967746 0.31612179 0.82899993 0.65631079 0.99640244 0.36381421\n",
      "  0.35167395 0.65157982 0.40275609 0.35245714]\n",
      " [0.69543687 0.09439478 0.08816769 0.74005996 0.59173817 0.9743861\n",
      "  0.83340502 0.7646705  0.34475706 0.4444221 ]\n",
      " [0.76456287 0.73671435 0.06983374 0.93045215 0.10015497 0.12527559\n",
      "  0.52264805 0.99389866 0.18975957 0.76505365]]\n",
      "[[0. 0. 0. 0. 0.]\n",
      " [0. 0. 0. 0. 0.]\n",
      " [0. 0. 0. 0. 0.]\n",
      " [0. 0. 0. 0. 0.]\n",
      " [0. 0. 0. 0. 0.]]\n"
     ]
    }
   ],
   "source": [
    "d = np.zeros([2, 3])\n",
    "e = np.ones([4, 2, 2])\n",
    "f = np.arange(100, 500, 10)\n",
    "g = np.random.random([10, 10])\n",
    "h = np.empty([5, 5])\n",
    "\n",
    "print(d)\n",
    "print(e)\n",
    "print(f)\n",
    "print(g)\n",
    "print(h)"
   ]
  },
  {
   "cell_type": "markdown",
   "metadata": {},
   "source": [
    "# Numpy information/interspection"
   ]
  },
  {
   "cell_type": "code",
   "execution_count": 17,
   "metadata": {},
   "outputs": [
    {
     "name": "stdout",
     "output_type": "stream",
     "text": [
      "[[[1. 1.]\n",
      "  [1. 1.]]\n",
      "\n",
      " [[1. 1.]\n",
      "  [1. 1.]]\n",
      "\n",
      " [[1. 1.]\n",
      "  [1. 1.]]\n",
      "\n",
      " [[1. 1.]\n",
      "  [1. 1.]]]\n",
      "(4, 2, 2)\n",
      "4\n",
      "3\n",
      "16\n",
      "float64\n",
      "[[0 0 0 0 0 0 0 0 0 0]\n",
      " [0 0 0 0 0 0 0 0 0 0]\n",
      " [0 0 0 0 0 0 0 0 0 0]\n",
      " [0 0 0 0 0 0 0 0 0 0]\n",
      " [0 0 0 0 0 0 0 0 0 0]\n",
      " [0 0 0 0 0 0 0 0 0 0]\n",
      " [0 0 0 0 0 0 0 0 0 0]\n",
      " [0 0 0 0 0 0 0 0 0 0]\n",
      " [0 0 0 0 0 0 0 0 0 0]\n",
      " [0 0 0 0 0 0 0 0 0 0]]\n"
     ]
    }
   ],
   "source": [
    "print(e)\n",
    "print(e.shape)\n",
    "print(len(e))\n",
    "print(e.ndim)\n",
    "print(e.size)\n",
    "print(e.dtype)\n",
    "print(g.astype(int))\n"
   ]
  },
  {
   "cell_type": "markdown",
   "metadata": {},
   "source": [
    "# numpy operations"
   ]
  },
  {
   "cell_type": "code",
   "execution_count": null,
   "metadata": {},
   "outputs": [
    {
     "name": "stdout",
     "output_type": "stream",
     "text": [
      "[[ 11  -8   6]\n",
      " [  5 106 -12]]\n",
      "[[ -9  12   0]\n",
      " [  3 -94  28]]\n",
      "[[  10  -20    9]\n",
      " [   4  600 -160]]\n",
      "[[ 0.1  -0.2   1.  ]\n",
      " [ 4.    0.06 -0.4 ]]\n",
      "[[ 11  -8   6]\n",
      " [  5 106 -12]]\n",
      "[[ -9  12   0]\n",
      " [  3 -94  28]]\n",
      "[[2.71828183e+00 7.38905610e+00 2.00855369e+01]\n",
      " [5.45981500e+01 4.03428793e+02 2.98095799e+03]]\n",
      "[[1.         1.41421356 1.73205081]\n",
      " [2.         2.44948974 2.82842712]]\n",
      "[[ 0.84147098  0.90929743  0.14112001]\n",
      " [-0.7568025  -0.2794155   0.98935825]]\n",
      "[[ 0.54030231 -0.41614684 -0.9899925 ]\n",
      " [-0.65364362  0.96017029 -0.14550003]]\n",
      "[[0.         0.69314718 1.09861229]\n",
      " [1.38629436 1.79175947 2.07944154]]\n"
     ]
    }
   ],
   "source": [
    "i = np.array([[1, 2, 3], [4, 6, 8]])\n",
    "j = np.array([[10, -10, 3], [1, 100, -20]])\n",
    "\n",
    "print(i + j)\n",
    "print(i - j)\n",
    "print(i * j)\n",
    "print(i / j)\n",
    "print(np.add(i, j))\n",
    "print(np.subtract(i, j))\n",
    "print(np.exp(i))   # exponentiation\n",
    "print(np.sqrt(i))  # sqrt\n",
    "print(np.sin(i))   \n",
    "print(np.cos(i))\n",
    "print(np.log(i))   # natural logarithm"
   ]
  },
  {
   "cell_type": "code",
   "execution_count": 26,
   "metadata": {},
   "outputs": [
    {
     "name": "stdout",
     "output_type": "stream",
     "text": [
      "[[123. 123. 123. 123. 123. 123. 123. 123. 123. 123.]\n",
      " [123. 123. 123. 123. 123. 123. 123. 123. 123. 123.]\n",
      " [123. 123. 123. 123. 123. 123. 123. 123. 123. 123.]\n",
      " [123. 123. 123. 123. 123. 123. 123. 123. 123. 123.]\n",
      " [123. 123. 123. 123. 123. 123. 123. 123. 123. 123.]\n",
      " [123. 123. 123. 123. 123. 123. 123. 123. 123. 123.]\n",
      " [123. 123. 123. 123. 123. 123. 123. 123. 123. 123.]\n",
      " [123. 123. 123. 123. 123. 123. 123. 123. 123. 123.]\n",
      " [123. 123. 123. 123. 123. 123. 123. 123. 123. 123.]\n",
      " [123. 123. 123. 123. 123. 123. 123. 123. 123. 123.]]\n"
     ]
    }
   ],
   "source": [
    "k = np.ones([10, 10])\n",
    "k = k * 123\n",
    "print(k)"
   ]
  },
  {
   "cell_type": "code",
   "execution_count": null,
   "metadata": {},
   "outputs": [
    {
     "name": "stdout",
     "output_type": "stream",
     "text": [
      "[[1. 0. 0. 0. 0. 0. 0. 0. 0. 0.]\n",
      " [0. 1. 0. 0. 0. 0. 0. 0. 0. 0.]\n",
      " [0. 0. 1. 0. 0. 0. 0. 0. 0. 0.]\n",
      " [0. 0. 0. 1. 0. 0. 0. 0. 0. 0.]\n",
      " [0. 0. 0. 0. 1. 0. 0. 0. 0. 0.]\n",
      " [0. 0. 0. 0. 0. 1. 0. 0. 0. 0.]\n",
      " [0. 0. 0. 0. 0. 0. 1. 0. 0. 0.]\n",
      " [0. 0. 0. 0. 0. 0. 0. 1. 0. 0.]\n",
      " [0. 0. 0. 0. 0. 0. 0. 0. 1. 0.]\n",
      " [0. 0. 0. 0. 0. 0. 0. 0. 0. 1.]]\n",
      "[0.80446648 0.03107313 0.88408187 0.64870586 0.09755086 0.95792865\n",
      " 0.36072873 0.62450785 0.73590648 0.4101269 ]\n"
     ]
    }
   ],
   "source": [
    "l = np.eye(10)   # identity matrix\n",
    "print(l)\n",
    "\n",
    "m = np.random.random(10)\n",
    "print(m.dot(l))  # dot product"
   ]
  },
  {
   "cell_type": "markdown",
   "metadata": {},
   "source": [
    "# numpy comparisons"
   ]
  },
  {
   "cell_type": "code",
   "execution_count": 36,
   "metadata": {},
   "outputs": [
    {
     "name": "stdout",
     "output_type": "stream",
     "text": [
      "[[1 2 3]\n",
      " [4 6 8]]\n",
      "[[ 10 -10   3]\n",
      " [  1 100 -20]]\n",
      "[[False False  True]\n",
      " [False False False]]\n",
      "[[ True  True False]\n",
      " [ True  True  True]]\n",
      "[[ True  True  True]\n",
      " [False False False]]\n",
      "False\n",
      "True\n"
     ]
    }
   ],
   "source": [
    "print(i)\n",
    "print(j)\n",
    "\n",
    "# Elementwise comparisons\n",
    "print(i == j)\n",
    "print(i != j)\n",
    "print(i < 4)\n",
    "\n",
    "# Arraywise comparison\n",
    "print(np.array_equal(i, j))\n",
    "print(np.array_equal(i, i))"
   ]
  },
  {
   "cell_type": "markdown",
   "metadata": {},
   "source": [
    "Indexing"
   ]
  },
  {
   "cell_type": "code",
   "execution_count": 43,
   "metadata": {},
   "outputs": [
    {
     "name": "stdout",
     "output_type": "stream",
     "text": [
      "[[1 2 3]\n",
      " [4 6 8]]\n",
      "[[ 10 -10   3]\n",
      " [  1 100 -20]]\n",
      "[[ True False  True]\n",
      " [False False  True]]\n",
      "[1 3 8]\n",
      "[[False False  True]\n",
      " [False False False]]\n",
      "[3]\n"
     ]
    }
   ],
   "source": [
    "print(i)\n",
    "print(j)\n",
    "\n",
    "mask = np.array([\n",
    "    [True, False, True],\n",
    "    [False, False, True]\n",
    "], dtype=bool)\n",
    "print(mask)\n",
    "print(i[mask])\n",
    "\n",
    "print(i == j)\n",
    "print(i[i == j])"
   ]
  },
  {
   "cell_type": "code",
   "execution_count": 53,
   "metadata": {},
   "outputs": [
    {
     "name": "stdout",
     "output_type": "stream",
     "text": [
      "[[1 2 3]\n",
      " [4 6 8]]\n",
      "8\n",
      "8\n",
      "[[4 6 8]]\n",
      "[1 2 3 4]\n",
      "[[1 4]\n",
      " [2 6]\n",
      " [3 8]]\n",
      "[1 2 3 4 6 8]\n"
     ]
    }
   ],
   "source": [
    "print(i)\n",
    "print(i[1][2])\n",
    "print(i[1, 2])\n",
    "\n",
    "# array slicing\n",
    "print(i[1:])\n",
    "\n",
    "# comparison (elements less than 4) then mask\n",
    "print(i[i <= 4])\n",
    "\n",
    "print(np.transpose(i))\n",
    "print(np.ravel(i))"
   ]
  },
  {
   "cell_type": "code",
   "execution_count": null,
   "metadata": {},
   "outputs": [
    {
     "name": "stdout",
     "output_type": "stream",
     "text": [
      "[ 1  2  3  4  5  6  7  8  9 10]\n",
      "[[ 1  2]\n",
      " [ 3  4]\n",
      " [ 5  6]\n",
      " [ 7  8]\n",
      " [ 9 10]]\n"
     ]
    },
    {
     "ename": "AttributeError",
     "evalue": "'numpy.ndarray' object has no attribute 'append'",
     "output_type": "error",
     "traceback": [
      "\u001b[0;31m---------------------------------------------------------------------------\u001b[0m",
      "\u001b[0;31mAttributeError\u001b[0m                            Traceback (most recent call last)",
      "Cell \u001b[0;32mIn[57], line 6\u001b[0m\n\u001b[1;32m      3\u001b[0m \u001b[38;5;28mprint\u001b[39m(m)\n\u001b[1;32m      4\u001b[0m \u001b[38;5;28mprint\u001b[39m(n)\n\u001b[0;32m----> 6\u001b[0m o \u001b[38;5;241m=\u001b[39m \u001b[43mm\u001b[49m\u001b[38;5;241;43m.\u001b[39;49m\u001b[43mappend\u001b[49m([\u001b[38;5;241m11\u001b[39m, \u001b[38;5;241m12\u001b[39m])\n\u001b[1;32m      7\u001b[0m o \u001b[38;5;241m=\u001b[39m m\u001b[38;5;241m.\u001b[39mreshape(\u001b[38;5;241m2\u001b[39m, \u001b[38;5;241m2\u001b[39m, \u001b[38;5;241m2\u001b[39m)\n\u001b[1;32m      8\u001b[0m \u001b[38;5;28mprint\u001b[39m(o)\n",
      "\u001b[0;31mAttributeError\u001b[0m: 'numpy.ndarray' object has no attribute 'append'"
     ]
    }
   ],
   "source": []
  },
  {
   "cell_type": "code",
   "execution_count": 62,
   "metadata": {},
   "outputs": [
    {
     "name": "stdout",
     "output_type": "stream",
     "text": [
      "[ 1  2  3  4  5  6  7  8  9 10]\n",
      "[[ 1  2]\n",
      " [ 3  4]\n",
      " [ 5  6]\n",
      " [ 7  8]\n",
      " [ 9 10]]\n",
      "[ 1  2  3  4  5  6  7  8  9 10 11 12]\n",
      "[[[ 1]\n",
      "  [ 2]\n",
      "  [ 3]]\n",
      "\n",
      " [[ 4]\n",
      "  [ 5]\n",
      "  [ 6]]\n",
      "\n",
      " [[ 7]\n",
      "  [ 8]\n",
      "  [ 9]]\n",
      "\n",
      " [[10]\n",
      "  [11]\n",
      "  [12]]]\n"
     ]
    }
   ],
   "source": [
    "m = np.array([1, 2, 3, 4, 5, 6, 7, 8, 9, 10])\n",
    "n = m.reshape(5, 2)\n",
    "print(m)\n",
    "print(n)\n",
    "\n",
    "m = np.append(m, np.array([11, 12]))\n",
    "print(m)\n",
    "o = m.reshape(4, 3, 1)\n",
    "print(o)"
   ]
  },
  {
   "cell_type": "markdown",
   "metadata": {},
   "source": [
    "# Assigment by reference/value"
   ]
  },
  {
   "cell_type": "code",
   "execution_count": 66,
   "metadata": {},
   "outputs": [
    {
     "name": "stdout",
     "output_type": "stream",
     "text": [
      "[ 1 30  3]\n",
      "[  1 100   3]\n",
      "[  1 100   3]\n",
      "[ 1 -2  3]\n"
     ]
    }
   ],
   "source": [
    "p = np.array([1, 2, 3])\n",
    "p[1] = 30\n",
    "print(p)\n",
    "\n",
    "# by reference\n",
    "q = p\n",
    "q[1] = 100\n",
    "print(p)\n",
    "\n",
    "r = p.copy()\n",
    "r[1] = -2\n",
    "print(p)\n",
    "print(r)"
   ]
  },
  {
   "cell_type": "markdown",
   "metadata": {},
   "source": [
    "# Saving and Loading"
   ]
  },
  {
   "cell_type": "code",
   "execution_count": null,
   "metadata": {},
   "outputs": [],
   "source": [
    "with open(\"numpy_data.npy\", \"wb\") as file:\n",
    "    np.save(file, p)\n",
    "    np.save(file, q)"
   ]
  },
  {
   "cell_type": "code",
   "execution_count": 68,
   "metadata": {},
   "outputs": [
    {
     "name": "stdout",
     "output_type": "stream",
     "text": [
      "[  1 100   3]\n",
      "[  1 100   3]\n"
     ]
    }
   ],
   "source": [
    "with open(\"numpy_data.npy\", \"rb\") as file:\n",
    "    s = np.load(file)\n",
    "    t = np.load(file)\n",
    "\n",
    "print(s)\n",
    "print(t)"
   ]
  }
 ],
 "metadata": {
  "kernelspec": {
   "display_name": ".venv",
   "language": "python",
   "name": "python3"
  },
  "language_info": {
   "codemirror_mode": {
    "name": "ipython",
    "version": 3
   },
   "file_extension": ".py",
   "mimetype": "text/x-python",
   "name": "python",
   "nbconvert_exporter": "python",
   "pygments_lexer": "ipython3",
   "version": "3.13.0"
  }
 },
 "nbformat": 4,
 "nbformat_minor": 2
}
